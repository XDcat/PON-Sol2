{
 "cells": [
  {
   "cell_type": "code",
   "execution_count": null,
   "metadata": {
    "ExecuteTime": {
     "end_time": "2021-05-25T08:40:39.987518Z",
     "start_time": "2021-05-25T08:40:39.976548Z"
    }
   },
   "outputs": [],
   "source": [
    "from collections import defaultdict\n",
    "from pprint import pprint\n",
    "import time\n",
    "import os\n",
    "import json\n",
    "\n",
    "import pandas as pd\n",
    "import numpy as np\n",
    "import matplotlib.pyplot as plt\n",
    "\n",
    "\n",
    "# matplotlib config\n",
    "pd.options.display.max_rows = 10  \n",
    "%matplotlib inline\n",
    "\n",
    "# ML\n",
    "from sklearn.model_selection import cross_val_score, cross_validate, StratifiedKFold\n",
    "from sklearn.model_selection import train_test_split\n",
    "skf = StratifiedKFold(n_splits=10, shuffle=True, random_state=0)  # 10cv shuffle \n",
    "from sklearn.externals import joblib  # save model\n",
    "from sklearn.feature_selection import RFE,RFECV  # fs\n",
    "from sklearn.ensemble import RandomForestClassifier\n",
    "import lightgbm as lgb\n",
    "import xgboost as xgb\n",
    "\n",
    "from tqdm import tqdm, trange\n",
    "with open(\"./config.json\") as f:\n",
    "    config = json.loads(f.read())\n",
    "    \n",
    "\n",
    "# import data\n",
    "from balance_date import BalanceDate\n",
    "# custom tool\n",
    "import utils"
   ]
  },
  {
   "cell_type": "code",
   "execution_count": null,
   "metadata": {
    "ExecuteTime": {
     "end_time": "2021-05-25T08:40:40.002477Z",
     "start_time": "2021-05-25T08:40:39.990510Z"
    }
   },
   "outputs": [],
   "source": [
    "FEATURE = BalanceDate.get_feature()  \n",
    "OUT_PATH = os.path.join(\".\", \"out\", time.strftime(\"%Y%m%d\")) \n",
    "if not os.path.exists(OUT_PATH):\n",
    "    os.makedirs(OUT_PATH)\n",
    "print(\"features：\", FEATURE)\n",
    "print(\"out path：\", OUT_PATH)"
   ]
  },
  {
   "cell_type": "markdown",
   "metadata": {},
   "source": [
    "# read data"
   ]
  },
  {
   "cell_type": "code",
   "execution_count": null,
   "metadata": {
    "ExecuteTime": {
     "end_time": "2021-05-25T08:40:40.190975Z",
     "start_time": "2021-05-25T08:40:40.004474Z"
    }
   },
   "outputs": [],
   "source": [
    "cv_kind = 1\n",
    "train_set_kind = 1\n",
    "\n",
    "X_test1, y_test1, X_test2, y_test2 = BalanceDate.get_test_values()  \n",
    "X_train, y_train, g_train = BalanceDate.get_train_values(train_set_kind)  \n",
    "cvs = BalanceDate.split_cv(kind=cv_kind, train_set_kind=train_set_kind)\n",
    "cvs_method = BalanceDate.split_cv(kind=cv_kind, train_set_kind=train_set_kind, return_kind=2)\n",
    "\n",
    "print(\"test1\")\n",
    "utils.solubility_distribute(y_test1, 0, 1)\n",
    "print(\"test2\")\n",
    "utils.solubility_distribute(y_test2, 0, 1)\n",
    "print(\"train\")\n",
    "utils.solubility_distribute(y_train, 0, 1)"
   ]
  },
  {
   "cell_type": "markdown",
   "metadata": {
    "ExecuteTime": {
     "end_time": "2020-03-14T13:06:54.409083Z",
     "start_time": "2020-03-14T13:06:54.405093Z"
    }
   },
   "source": [
    "# read model"
   ]
  },
  {
   "cell_type": "code",
   "execution_count": null,
   "metadata": {
    "ExecuteTime": {
     "end_time": "2021-05-25T08:40:40.206929Z",
     "start_time": "2021-05-25T08:40:40.193965Z"
    }
   },
   "outputs": [],
   "source": [
    "name = \"lightGBM\"\n",
    "model =  lgb.LGBMClassifier(random_state=0)  # gbm     \n",
    "print(name, model)"
   ]
  },
  {
   "cell_type": "markdown",
   "metadata": {},
   "source": [
    "# direct"
   ]
  },
  {
   "cell_type": "code",
   "execution_count": null,
   "metadata": {
    "ExecuteTime": {
     "end_time": "2021-05-25T08:40:40.222887Z",
     "start_time": "2021-05-25T08:40:40.209922Z"
    }
   },
   "outputs": [],
   "source": [
    "res_cv = []  # cv \n",
    "res_blind = []  # blind \n",
    "res_names = []  # name"
   ]
  },
  {
   "cell_type": "code",
   "execution_count": null,
   "metadata": {
    "ExecuteTime": {
     "end_time": "2021-05-25T08:40:46.468396Z",
     "start_time": "2021-05-25T08:40:40.226877Z"
    },
    "scrolled": true
   },
   "outputs": [],
   "source": [
    "res_names.append(\"direct\")\n",
    "print(\"10cv\")\n",
    "res_cv.append( utils.CVUtil(model, name + \"direct\", cvs_method).set_data(X_train, y_train, g_train).fit())\n",
    "print(\"blind\")\n",
    "res_blind.append( utils.BlindTestUtil(model, name + \"direct\").set_data(X_train, y_train, X_test1, y_test1, X_test2, y_test2).fit() )"
   ]
  },
  {
   "cell_type": "markdown",
   "metadata": {},
   "source": [
    "# after fs"
   ]
  },
  {
   "cell_type": "markdown",
   "metadata": {},
   "source": [
    "## rfe"
   ]
  },
  {
   "cell_type": "code",
   "execution_count": null,
   "metadata": {
    "ExecuteTime": {
     "end_time": "2021-05-25T08:40:46.470402Z",
     "start_time": "2021-05-25T08:40:39.982Z"
    },
    "scrolled": true
   },
   "outputs": [],
   "source": [
    "# 特征筛选的信息\n",
    "file_name = config[\"feature_selected\"][\"LightGBM_rfe_30\"]\n",
    "rfecv = joblib.load(file_name)\n",
    "print(\"dir:\", file_name)\n",
    "print(\"count:\", rfecv.n_features_)\n",
    "print(\"feature:\")\n",
    "for i, j in enumerate(FEATURE[rfecv.support_]):\n",
    "    print(j, end=\" \")\n",
    "    if (i + 1) % 10 == 0:\n",
    "        print()\n",
    "print()\n",
    "\n",
    "res_names.append(\"direct fs_rfe\")\n",
    "print(\"10cv\")\n",
    "res_cv.append(utils.CVUtil(model, name + \"fs\", cvs_method, feature_select=rfecv).set_data(X_train, y_train, g_train).fit())\n",
    "print(\"blind\")\n",
    "res_blind.append( utils.BlindTestUtil(model, name + \"fs\", feature_select=rfecv).set_data(X_train, y_train, X_test1, y_test1, X_test2, y_test2).fit())"
   ]
  },
  {
   "cell_type": "markdown",
   "metadata": {},
   "source": [
    "## rfecv"
   ]
  },
  {
   "cell_type": "code",
   "execution_count": null,
   "metadata": {
    "ExecuteTime": {
     "end_time": "2021-05-25T08:40:46.471389Z",
     "start_time": "2021-05-25T08:40:39.985Z"
    },
    "scrolled": true
   },
   "outputs": [],
   "source": [
    "file_name = config[\"feature_selected\"][name]\n",
    "rfecv = joblib.load(file_name)\n",
    "print(\"dir:\", file_name)\n",
    "print(\"count:\", rfecv.n_features_)\n",
    "print(\"feature:\")\n",
    "for i, j in enumerate(FEATURE[rfecv.support_]):\n",
    "    print(j, end=\" \")\n",
    "    if (i + 1) % 10 == 0:\n",
    "        print()\n",
    "print()\n",
    "\n",
    "res_names.append(\"direct fs_rfecv\")\n",
    "print(\"10cv\")\n",
    "res_cv.append(utils.CVUtil(model, name + \"fs\", cvs_method, feature_select=rfecv).set_data(X_train, y_train, g_train).fit())\n",
    "print(\"blind\")\n",
    "res_blind.append( utils.BlindTestUtil(model, name + \"fs\", feature_select=rfecv).set_data(X_train, y_train, X_test1, y_test1, X_test2, y_test2).fit())"
   ]
  },
  {
   "cell_type": "markdown",
   "metadata": {},
   "source": [
    "# direct + 2layer"
   ]
  },
  {
   "cell_type": "code",
   "execution_count": null,
   "metadata": {
    "ExecuteTime": {
     "end_time": "2021-05-25T08:40:46.472387Z",
     "start_time": "2021-05-25T08:40:39.987Z"
    }
   },
   "outputs": [],
   "source": [
    "name = \"lightGBM\"\n",
    "Estimator =  lgb.LGBMClassifier\n",
    "print(name, Estimator)"
   ]
  },
  {
   "cell_type": "code",
   "execution_count": null,
   "metadata": {
    "ExecuteTime": {
     "end_time": "2021-05-25T08:40:46.473384Z",
     "start_time": "2021-05-25T08:40:39.990Z"
    },
    "scrolled": true
   },
   "outputs": [],
   "source": [
    "i = -1\n",
    "res_names.append(\"2layer\")\n",
    "print(\"10cv\")\n",
    "_cvUtil = utils.CVUtilLayer2(Estimator, cvs_method, name + \"2layer\").set_data(X_train, y_train, g_train, i).fit()\n",
    "res_cv.append(_cvUtil)\n",
    "print(\"blind\")\n",
    "_blindUtil = utils.BlindTestUtilLayer2(Estimator, name + \"2layer\").set_data(X_train, y_train, X_test1, y_test1, X_test2, y_test2, i).fit()\n",
    "res_blind.append(_blindUtil)\n",
    "\n",
    "kwargs = {\"random_state\":0, }\n",
    "layer_direct_model = utils.PonsolLayerEstimator(Estimator,kwargs=kwargs,special_kind=-1)\n",
    "layer_direct_model.fit(X_train, y_train)\n",
    "out_path = os.path.join(OUT_PATH, \"2layer_directly.model\")\n",
    "print(\"save to:\", out_path)\n",
    "joblib.dump(layer_direct_model, out_path)\n",
    "p_test1 = layer_direct_model.predict(X_test1)\n",
    "p_test2 = layer_direct_model.predict(X_test2)\n",
    "print(\"acc test1 =\", sum(y_test1 == p_test1) / len(y_test1))\n",
    "print(\"acc test2 =\",sum(y_test2 == p_test2) / len(y_test2))"
   ]
  },
  {
   "cell_type": "markdown",
   "metadata": {},
   "source": [
    "# 2layer + fs"
   ]
  },
  {
   "cell_type": "markdown",
   "metadata": {},
   "source": [
    "## rfe"
   ]
  },
  {
   "cell_type": "code",
   "execution_count": null,
   "metadata": {
    "ExecuteTime": {
     "end_time": "2021-05-25T08:40:46.474381Z",
     "start_time": "2021-05-25T08:40:39.992Z"
    }
   },
   "outputs": [],
   "source": [
    "kind = -1\n",
    "print(\">> for {}：{}\".format(kind, [j for j in [-1, 0, 1] if j != kind]))\n",
    "_path1 = config[\"feature_selected\"][\"lightGBM_layer1_{}_ref_30\".format(kind)]\n",
    "_path2 = config[\"feature_selected\"][\"lightGBM_layer2_{}_ref_30\".format(kind)]\n",
    "print(\"rfecv ：\")\n",
    "print(\"layer1:\", _path1)\n",
    "print(\"layer2:\", _path2)\n",
    "rfecv_layer1 = joblib.load(_path1)\n",
    "rfecv_layer2 = joblib.load(_path2)\n",
    "_feature_1 = FEATURE[rfecv_layer1.support_]\n",
    "_feature_2 = FEATURE[rfecv_layer2.support_]\n",
    "\n",
    "print(\"# test{}\".format(kind))\n",
    "res_names.append(\"2layer fs_rfe_{}_{}\".format(len(_feature_1), len(_feature_2)))\n",
    "print(\"10cv\")\n",
    "_cvUtil = utils.CVUtilLayer2(Estimator, cvs_method, name).set_data(X_train, y_train, g_train, kind,_feature_1, _feature_2).fit()\n",
    "res_cv.append(_cvUtil)\n",
    "print(\"blind\")\n",
    "_blindUtil = utils.BlindTestUtilLayer2(Estimator, name).set_data(X_train, y_train, X_test1, y_test1, X_test2, y_test2, kind,_feature_1,_feature_2).fit()\n",
    "res_blind.append(_blindUtil)\n",
    "\n",
    "\n",
    "kwargs = {\"random_state\":0, }\n",
    "layer_rfe_model = utils.PonsolLayerEstimator(Estimator,kwargs=kwargs, special_kind=-1, feature_selected=[_feature_1, _feature_2])\n",
    "layer_rfe_model.fit(X_train, y_train)\n",
    "out_path = os.path.join(OUT_PATH, \"2layer_rfe.model\")\n",
    "print(\"save to:\", out_path)\n",
    "joblib.dump(layer_rfe_model, out_path)\n",
    "p_test1 = layer_rfe_model.predict(X_test1)\n",
    "p_test2 = layer_rfe_model.predict(X_test2)\n",
    "print(\"acc test1 =\", sum(y_test1 == p_test1) / len(y_test1))\n",
    "print(\"acc test2 =\",sum(y_test2 == p_test2) / len(y_test2))"
   ]
  },
  {
   "cell_type": "markdown",
   "metadata": {},
   "source": [
    "## rfecv"
   ]
  },
  {
   "cell_type": "code",
   "execution_count": null,
   "metadata": {
    "ExecuteTime": {
     "end_time": "2021-05-25T08:40:46.475391Z",
     "start_time": "2021-05-25T08:40:39.994Z"
    }
   },
   "outputs": [],
   "source": [
    "kind = -1\n",
    "print(\">> 针对{}：{}\".format(kind, [j for j in [-1, 0, 1] if j != kind]))\n",
    "\n",
    "_path1 = config[\"feature_selected\"][\"lightGBM_layer1_{}\".format(kind)]\n",
    "_path2 = config[\"feature_selected\"][\"lightGBM_layer2_{}\".format(kind)]\n",
    "print(\"rfecv layer1 ：\", _path1)\n",
    "print(\"rfecv layer2 ：\", _path2)\n",
    "print(\"layer1:\", _path1)\n",
    "print(\"layer2:\", _path2)\n",
    "rfecv_layer1 = joblib.load(_path1)\n",
    "rfecv_layer2 = joblib.load(_path2)\n",
    "_feature_1 = FEATURE[rfecv_layer1.support_]\n",
    "_feature_2 = FEATURE[rfecv_layer2.support_]\n",
    "\n",
    "\n",
    "print(\"layer1\")\n",
    "print(\"count：\", len(_feature_1))\n",
    "print(\"feature：\")\n",
    "for i, j in enumerate(_feature_1):\n",
    "    print(j, end=\" \")\n",
    "    if (i + 1) % 10 == 0:\n",
    "        print()\n",
    "print()\n",
    "\n",
    "print(\"layer2\")\n",
    "print(\"count：\", len(_feature_2))\n",
    "print(\"feature：\")\n",
    "for i, j in enumerate(_feature_2):\n",
    "    print(j, end=\" \")\n",
    "    if (i + 1) % 10 == 0:\n",
    "        print()\n",
    "print()\n",
    "\n",
    "print(\"# test{}\".format(kind))\n",
    "res_names.append(\"2layer fs_rfecv\")\n",
    "print(\"10cv\")\n",
    "_cvUtil = utils.CVUtilLayer2(Estimator, cvs_method, name).set_data(X_train, y_train, g_train, kind,_feature_1, _feature_2).fit()\n",
    "res_cv.append(_cvUtil)\n",
    "print(\"blind\")\n",
    "_blindUtil = utils.BlindTestUtilLayer2(Estimator, name).set_data(X_train, y_train, X_test1, y_test1, X_test2, y_test2, kind,_feature_1,_feature_2).fit()\n",
    "res_blind.append(_blindUtil)\n",
    "\n",
    "\n",
    "kwargs = {\"random_state\":0, }\n",
    "layer_rfecv_model = utils.PonsolLayerEstimator(Estimator, kwargs=kwargs, special_kind=-1, feature_selected=[_feature_1, _feature_2])\n",
    "layer_rfecv_model.fit(X_train, y_train)\n",
    "out_path = os.path.join(OUT_PATH, \"2layer_rfecv.model\")\n",
    "print(\"save to:\", out_path)\n",
    "joblib.dump(layer_rfecv_model, out_path)\n",
    "\n",
    "p_test1 = layer_rfecv_model.predict(X_test1)\n",
    "p_test2 = layer_rfecv_model.predict(X_test2)\n",
    "print(\"acc test1 =\", sum(y_test1 == p_test1) / len(y_test1))\n",
    "print(\"acc test2 =\",sum(y_test2 == p_test2) / len(y_test2))"
   ]
  },
  {
   "cell_type": "markdown",
   "metadata": {},
   "source": [
    "# save result"
   ]
  },
  {
   "cell_type": "code",
   "execution_count": null,
   "metadata": {
    "ExecuteTime": {
     "end_time": "2021-05-25T08:40:46.476376Z",
     "start_time": "2021-05-25T08:40:39.996Z"
    },
    "scrolled": true
   },
   "outputs": [],
   "source": [
    "utils.result_output(res_cv, res_blind, res_names, OUT_PATH, \"10cv_3class_finally\", False)  \n",
    "utils.result_output(res_cv, res_blind, res_names, OUT_PATH, \"10cv_3class_finally\", True)  "
   ]
  },
  {
   "cell_type": "markdown",
   "metadata": {},
   "source": [
    "# save classfier"
   ]
  },
  {
   "cell_type": "code",
   "execution_count": null,
   "metadata": {
    "ExecuteTime": {
     "end_time": "2021-05-25T08:40:46.478370Z",
     "start_time": "2021-05-25T08:40:39.998Z"
    }
   },
   "outputs": [],
   "source": [
    "Estimator = lgb.LGBMClassifier\n",
    "kwargs = {\"random_state\":0, }\n",
    "layer_estimator = utils.PonsolLayerEstimator(Estimator, kwargs=kwargs, special_kind=-1)\n",
    "layer_estimator.fit(X_train, y_train)\n",
    "\n",
    "out_path = os.path.join(OUT_PATH, \"ponsol2.model\")\n",
    "print(\"save to:\", out_path)\n",
    "joblib.dump(layer_estimator, out_path)"
   ]
  }
 ],
 "metadata": {
  "kernelspec": {
   "display_name": "Python 3",
   "language": "python",
   "name": "python3"
  },
  "language_info": {
   "codemirror_mode": {
    "name": "ipython",
    "version": 3
   },
   "file_extension": ".py",
   "mimetype": "text/x-python",
   "name": "python",
   "nbconvert_exporter": "python",
   "pygments_lexer": "ipython3",
   "version": "3.7.7"
  },
  "latex_envs": {
   "LaTeX_envs_menu_present": true,
   "autoclose": false,
   "autocomplete": true,
   "bibliofile": "biblio.bib",
   "cite_by": "apalike",
   "current_citInitial": 1,
   "eqLabelWithNumbers": true,
   "eqNumInitial": 1,
   "hotkeys": {
    "equation": "Ctrl-E",
    "itemize": "Ctrl-I"
   },
   "labels_anchors": false,
   "latex_user_defs": false,
   "report_style_numbering": false,
   "user_envs_cfg": false
  },
  "toc": {
   "base_numbering": 1,
   "nav_menu": {},
   "number_sections": true,
   "sideBar": true,
   "skip_h1_title": false,
   "title_cell": "Table of Contents",
   "title_sidebar": "Contents",
   "toc_cell": false,
   "toc_position": {
    "height": "calc(100% - 180px)",
    "left": "10px",
    "top": "150px",
    "width": "166.141px"
   },
   "toc_section_display": true,
   "toc_window_display": true
  }
 },
 "nbformat": 4,
 "nbformat_minor": 4
}
