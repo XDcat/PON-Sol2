{
 "cells": [
  {
   "cell_type": "code",
   "execution_count": null,
   "metadata": {
    "ExecuteTime": {
     "end_time": "2021-05-25T08:28:06.720513Z",
     "start_time": "2021-05-25T08:28:03.465729Z"
    }
   },
   "outputs": [],
   "source": [
    "from collections import defaultdict\n",
    "from pprint import pprint\n",
    "import time\n",
    "import os\n",
    "import json\n",
    "import pandas as pd\n",
    "import numpy as np\n",
    "import matplotlib.pyplot as plt\n",
    "from balance_date import BalanceDate\n",
    "\n",
    "import utils\n",
    "pd.options.display.max_rows = 10 \n",
    "%matplotlib inline\n",
    "\n",
    "from sklearn.model_selection import cross_val_score, cross_validate, StratifiedKFold\n",
    "from sklearn.model_selection import train_test_split\n",
    "skf = StratifiedKFold(n_splits=10, shuffle=True, random_state=0)  \n",
    "from sklearn.externals import joblib  \n",
    "from sklearn.feature_selection import RFE,RFECV\n",
    "\n",
    "from sklearn.ensemble import RandomForestClassifier\n",
    "import lightgbm as lgb\n",
    "import xgboost as xgb\n",
    "import time\n",
    "\n",
    "\n",
    "from tqdm import tqdm, trange\n",
    "with open(\"./config.json\") as f:\n",
    "    config = json.loads(f.read())"
   ]
  },
  {
   "cell_type": "code",
   "execution_count": null,
   "metadata": {
    "ExecuteTime": {
     "end_time": "2021-05-25T08:28:06.736443Z",
     "start_time": "2021-05-25T08:28:06.723479Z"
    }
   },
   "outputs": [],
   "source": [
    "FEATURE = BalanceDate.get_feature() \n",
    "OUT_PATH = os.path.join(\".\", \"out\", time.strftime(\"%Y%m%d\")) \n",
    "if not os.path.exists(OUT_PATH):\n",
    "    os.makedirs(OUT_PATH)\n",
    "print(\"feature：\", FEATURE)\n",
    "print(\"out path：\", OUT_PATH)"
   ]
  },
  {
   "cell_type": "markdown",
   "metadata": {},
   "source": [
    "# read data"
   ]
  },
  {
   "cell_type": "code",
   "execution_count": null,
   "metadata": {
    "ExecuteTime": {
     "end_time": "2021-05-25T08:28:06.906201Z",
     "start_time": "2021-05-25T08:28:06.739437Z"
    },
    "scrolled": true
   },
   "outputs": [],
   "source": [
    "cv_kind = 1\n",
    "train_set_kind = 1\n",
    "\n",
    "X_test1, y_test1, X_test2, y_test2 = BalanceDate.get_test_values()  \n",
    "X_train, y_train, g_train = BalanceDate.get_train_values(train_set_kind)  \n",
    "cvs = BalanceDate.split_cv(kind=cv_kind, train_set_kind=train_set_kind)\n",
    "cvs_method = BalanceDate.split_cv(kind=cv_kind, train_set_kind=train_set_kind, return_kind=2)\n",
    "\n",
    "print(\"test1\")\n",
    "utils.solubility_distribute(y_test1, 0, 1)\n",
    "print(\"test2\")\n",
    "utils.solubility_distribute(y_test2, 0, 1)\n",
    "print(\"train\")\n",
    "utils.solubility_distribute(y_train, 0, 1)"
   ]
  },
  {
   "cell_type": "markdown",
   "metadata": {
    "ExecuteTime": {
     "end_time": "2020-03-14T13:06:54.409083Z",
     "start_time": "2020-03-14T13:06:54.405093Z"
    }
   },
   "source": [
    "# read model"
   ]
  },
  {
   "cell_type": "code",
   "execution_count": null,
   "metadata": {
    "ExecuteTime": {
     "end_time": "2021-05-25T08:28:06.921162Z",
     "start_time": "2021-05-25T08:28:06.908173Z"
    }
   },
   "outputs": [],
   "source": [
    "names = ['RandomForeast', 'lightGBM', 'XGBoost']\n",
    "\n",
    "models = [\n",
    "    RandomForestClassifier(random_state=0),\n",
    "    lgb.LGBMClassifier(random_state=0),  # gbm     \n",
    "    xgb.XGBClassifier(random_state=0),\n",
    "]\n",
    "\n",
    "print(names)"
   ]
  },
  {
   "cell_type": "markdown",
   "metadata": {},
   "source": [
    "# train"
   ]
  },
  {
   "cell_type": "code",
   "execution_count": null,
   "metadata": {
    "ExecuteTime": {
     "end_time": "2021-05-25T08:35:35.155340Z",
     "start_time": "2021-05-25T08:28:06.923133Z"
    },
    "scrolled": true
   },
   "outputs": [],
   "source": [
    "res_cv = []  \n",
    "res_blind = []  \n",
    "for i in range(len(names)):\n",
    "    name = names[i]\n",
    "    model = models[i]\n",
    "    print(name, model)\n",
    "    print(\"10cv\")\n",
    "    stime = time.time()\n",
    "    res_cv.append( utils.CVUtil(model, name, cvs_method).set_data(X_train, y_train, g_train).fit())\n",
    "    etime = time.time()\n",
    "    print(\"time:\", etime - stime)\n",
    "    print(\"blind\")\n",
    "    res_blind.append( utils.BlindTestUtil(model, name).set_data(X_train, y_train, X_test1, y_test1, X_test2, y_test2).fit() )"
   ]
  },
  {
   "cell_type": "markdown",
   "metadata": {},
   "source": [
    "# save result"
   ]
  },
  {
   "cell_type": "code",
   "execution_count": null,
   "metadata": {
    "ExecuteTime": {
     "end_time": "2021-05-25T08:35:37.218638Z",
     "start_time": "2021-05-25T08:35:35.157299Z"
    }
   },
   "outputs": [],
   "source": [
    "utils.result_output(res_cv, res_blind, names, OUT_PATH, \"10cv_3class\", False)  \n",
    "utils.result_output(res_cv, res_blind, names, OUT_PATH, \"10cv_3class\", True)  "
   ]
  }
 ],
 "metadata": {
  "kernelspec": {
   "display_name": "Python 3",
   "language": "python",
   "name": "python3"
  },
  "language_info": {
   "codemirror_mode": {
    "name": "ipython",
    "version": 3
   },
   "file_extension": ".py",
   "mimetype": "text/x-python",
   "name": "python",
   "nbconvert_exporter": "python",
   "pygments_lexer": "ipython3",
   "version": "3.7.7"
  },
  "latex_envs": {
   "LaTeX_envs_menu_present": true,
   "autoclose": false,
   "autocomplete": true,
   "bibliofile": "biblio.bib",
   "cite_by": "apalike",
   "current_citInitial": 1,
   "eqLabelWithNumbers": true,
   "eqNumInitial": 1,
   "hotkeys": {
    "equation": "Ctrl-E",
    "itemize": "Ctrl-I"
   },
   "labels_anchors": false,
   "latex_user_defs": false,
   "report_style_numbering": false,
   "user_envs_cfg": false
  },
  "toc": {
   "base_numbering": 1,
   "nav_menu": {},
   "number_sections": true,
   "sideBar": true,
   "skip_h1_title": false,
   "title_cell": "Table of Contents",
   "title_sidebar": "Contents",
   "toc_cell": false,
   "toc_position": {
    "height": "calc(100% - 180px)",
    "left": "10px",
    "top": "150px",
    "width": "166.165px"
   },
   "toc_section_display": true,
   "toc_window_display": true
  }
 },
 "nbformat": 4,
 "nbformat_minor": 4
}
