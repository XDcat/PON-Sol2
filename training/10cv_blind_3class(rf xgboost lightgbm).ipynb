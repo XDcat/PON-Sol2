{
 "cells": [
  {
   "cell_type": "code",
   "execution_count": 1,
   "metadata": {
    "ExecuteTime": {
     "end_time": "2021-05-25T06:13:35.470825Z",
     "start_time": "2021-05-25T06:13:14.306799Z"
    }
   },
   "outputs": [
    {
     "name": "stdout",
     "output_type": "stream",
     "text": [
      "配置文件\n",
      "{'BTK': './out/BTK.faste',\n",
      " 'aaindex': './data/aaindexmatrix.txt',\n",
      " 'all_feature': './data/all_feature.csv',\n",
      " 'feature_kind': './data/features_kind.xls',\n",
      " 'feature_selected': {'LightGBM_rfe_100': './out/20210203/10cv_3class_feature_select_LightGBM_direct_100.rfe',\n",
      "                      'LightGBM_rfe_20': './out/20210203/10cv_3class_feature_select_LightGBM_direct_20.rfe',\n",
      "                      'LightGBM_rfe_30': './out/20210108/10cv_3class_feature_select_LightGBM_30.rfe',\n",
      "                      'LightGBM_rfe_50': './out/20210203/10cv_3class_feature_select_LightGBM_direct_50.rfe',\n",
      "                      'RandomForeast': './out/20201224/10cv_3class_feature_select_RandomForeast.rfecv',\n",
      "                      'RandomForeast_rfe_30': './out/20201226/10cv_3class_feature_select_RandomForeast_30.rfe',\n",
      "                      'XGBoost': './out/20201224/10cv_3class_feature_select_XGBoost.rfecv',\n",
      "                      'XGBoost_rfe_30': './out/20201226/10cv_3class_feature_select_XGBoost_30.rfe',\n",
      "                      'lightGBM': './out/20210108/10cv_3class_feature_select_LightGBM.rfecv',\n",
      "                      'lightGBM_layer1_-1': './out/20210106/lightGBM_feature_select_for_-1_layer1.rfecv',\n",
      "                      'lightGBM_layer1_-1_ref_100': './out/20210203/lightGBM_feature_select_for_-1_layer1_100_features.rfe',\n",
      "                      'lightGBM_layer1_-1_ref_20': './out/20210203/lightGBM_feature_select_for_-1_layer1_20_features.rfe',\n",
      "                      'lightGBM_layer1_-1_ref_30': './out/20210106/lightGBM_feature_select_for_-1_layer1_30_features.rfe',\n",
      "                      'lightGBM_layer1_-1_ref_50': './out/20210203/lightGBM_feature_select_for_-1_layer1_50_features.rfe',\n",
      "                      'lightGBM_layer2_-1': './out/20210106/lightGBM_feature_select_for_-1_layer2.rfecv',\n",
      "                      'lightGBM_layer2_-1_ref_100': './out/20210203/lightGBM_feature_select_for_-1_layer2_100_features.rfe',\n",
      "                      'lightGBM_layer2_-1_ref_20': './out/20210203/lightGBM_feature_select_for_-1_layer2_20_features.rfe',\n",
      "                      'lightGBM_layer2_-1_ref_30': './out/20210106/lightGBM_feature_select_for_-1_layer2_30_features.rfe',\n",
      "                      'lightGBM_layer2_-1_ref_50': './out/20210203/lightGBM_feature_select_for_-1_layer2_50_features.rfe'},\n",
      " 'feature_selected_dir': './data/result/feature selected/',\n",
      " 'feature_selected_special': {'lightGBM_ref_specia-l_layer1': ['lightGBM_layer1_-1_ref_30',\n",
      "                                                               './out/20210108/lightGBM_feature_select_for_-1_layer1_20_features.rfe'],\n",
      "                              'lightGBM_ref_specia-l_layer2': ['lightGBM_layer2_-1_ref_30',\n",
      "                                                               './out/20210108/lightGBM_feature_select_for_-1_layer2_20_features.rfe']},\n",
      " 'final_model': './out/20210214/2layer_rfe_20_20.model',\n",
      " 'genes_seq': './data/all_genes.csv',\n",
      " 'origin_data': './data/PON-Sol_data - YSD=0.15.xlsx',\n",
      " 'result': ['./data/result/rfecv_res/10cv_3class_res.xlsx',\n",
      "            './data/result/rfecv_res/10cv_3class_feature_select_res.xlsx',\n",
      "            './data/result/rfecv_res/10cv_3class_newDataBalance_res.xlsx',\n",
      "            './data/result/rfecv_res/10cv_3class_newDataBalance_comparsion_of_data_method_res.xlsx',\n",
      "            './data/result/rfecv_res/10cv_3class_2layer_res.xlsx',\n",
      "            './data/result/rfe_res/10cv_3class_res_RandomForeast_rfe_feature_select_res.xlsx',\n",
      "            './data/result/rfe_res/10cv_3class_res_LightGBM_rfe_feature_select_res.xlsx',\n",
      "            './data/result/rfe_res/10cv_3class_res_XGBoost_rfe_feature_select_res.xlsx',\n",
      "            './data/result/rfe_res/10cv_3class_2layer_rfe_res.xlsx'],\n",
      " 'result_balanced': ['./data/result/rfecv_res/10cv_3class_res_balanced.xlsx',\n",
      "                     './data/result/rfecv_res/10cv_3class_feature_select_res_balanced.xlsx',\n",
      "                     './data/result/rfecv_res/10cv_3class_newDataBalance_comparsion_of_data_method_res_balanced.xlsx',\n",
      "                     './data/result/rfecv_res/10cv_3class_2layer_res_balanced.xlsx',\n",
      "                     './data/result/rfe_res/10cv_3class_res_RandomForeast_rfe_feature_select_res_balanced.xlsx',\n",
      "                     './data/result/rfe_res/10cv_3class_res_LightGBM_rfe_feature_select_res_balanced.xlsx',\n",
      "                     './data/result/rfe_res/10cv_3class_res_XGBoost_rfe_feature_select_res_balanced.xlsx',\n",
      "                     './data/result/rfe_res/10cv_3class_2layer_rfe_res_balanced.xlsx'],\n",
      " 'result_finally': ['./out/20210121/10cv_3class_finally_res.xlsx',\n",
      "                    './out/20210121/10cv_3class_finally_res_balanced.xlsx'],\n",
      " 'sift_aligedfasta': './data/sift_data/result1_90_100',\n",
      " 'sift_result': './data/sift_data/result1_90_100/sift_result',\n",
      " 'yeast_lgk': './data/yeast_lgk.csv',\n",
      " 'yeast_tem': './data/yeast_tem.csv'}\n",
      "初始数据比例: -1: 0: 1 = 7748: 2427: 1026= 1.00: 0.31: 0.13\n",
      "lgk 分布: -1: 0: 1 = 4958: 1026: 314= 1.00: 0.21: 0.06\n",
      "tem 分布: -1: 0: 1 = 2566: 1176: 623= 1.00: 0.46: 0.24\n",
      "其他 分布: -1: 0: 1 = 224: 225: 89= 1.00: 1.00: 0.40\n",
      "经过两大蛋白质筛除后: -1: 0: 1 = 3136: 2166: 1026= 1.00: 0.69: 0.33\n",
      "数据总数目： 6328 \t -1: 0: 1 = 3136: 2166: 1026= 1.00: 0.69: 0.33\n",
      "test1数目： 46 \t\t -1: 0: 1 = 12: 22: 12= 1.00: 1.83: 1.00\n",
      "test2数目： 662 \t -1: 0: 1 = 338: 237: 87= 1.00: 0.70: 0.26\n",
      "train数目： 5666 \t -1: 0: 1 = 2798: 1929: 939= 1.00: 0.69: 0.34\n"
     ]
    },
    {
     "name": "stderr",
     "output_type": "stream",
     "text": [
      "d:\\application\\annaconda\\envs\\ponsol_web\\lib\\site-packages\\sklearn\\externals\\joblib\\__init__.py:15: FutureWarning: sklearn.externals.joblib is deprecated in 0.21 and will be removed in 0.23. Please import this functionality directly from joblib, which can be installed with: pip install joblib. If this warning is raised when loading pickled models, you may need to re-serialize those models with scikit-learn 0.21+.\n",
      "  warnings.warn(msg, category=FutureWarning)\n"
     ]
    }
   ],
   "source": [
    "from collections import defaultdict\n",
    "from pprint import pprint\n",
    "import time\n",
    "import os\n",
    "import json\n",
    "import pandas as pd\n",
    "import numpy as np\n",
    "import matplotlib.pyplot as plt\n",
    "from balance_date import BalanceDate\n",
    "\n",
    "import utils\n",
    "pd.options.display.max_rows = 10 \n",
    "%matplotlib inline\n",
    "\n",
    "from sklearn.model_selection import cross_val_score, cross_validate, StratifiedKFold\n",
    "from sklearn.model_selection import train_test_split\n",
    "skf = StratifiedKFold(n_splits=10, shuffle=True, random_state=0)  \n",
    "from sklearn.externals import joblib  \n",
    "from sklearn.feature_selection import RFE,RFECV\n",
    "\n",
    "from sklearn.ensemble import RandomForestClassifier\n",
    "import lightgbm as lgb\n",
    "import xgboost as xgb\n",
    "import time\n",
    "\n",
    "\n",
    "from tqdm import tqdm, trange\n",
    "with open(\"./config.json\") as f:\n",
    "    config = json.loads(f.read())"
   ]
  },
  {
   "cell_type": "code",
   "execution_count": 2,
   "metadata": {
    "ExecuteTime": {
     "end_time": "2021-05-25T06:13:35.500747Z",
     "start_time": "2021-05-25T06:13:35.472821Z"
    }
   },
   "outputs": [
    {
     "name": "stdout",
     "output_type": "stream",
     "text": [
      "feature： 0             sift\n",
      "1             hits\n",
      "2       ANDN920101\n",
      "3       ARGP820101\n",
      "4       ARGP820102\n",
      "           ...    \n",
      "1076    NonPolarAA\n",
      "1077       PolarAA\n",
      "1078     ChargedAA\n",
      "1079         PosAA\n",
      "1080         NegAA\n",
      "Length: 1081, dtype: object\n",
      "out path： .\\out\\20210525\n"
     ]
    }
   ],
   "source": [
    "FEATURE = BalanceDate.get_feature() \n",
    "OUT_PATH = os.path.join(\".\", \"out\", time.strftime(\"%Y%m%d\")) \n",
    "if not os.path.exists(OUT_PATH):\n",
    "    os.makedirs(OUT_PATH)\n",
    "print(\"feature：\", FEATURE)\n",
    "print(\"out path：\", OUT_PATH)"
   ]
  },
  {
   "cell_type": "markdown",
   "metadata": {},
   "source": [
    "# read data"
   ]
  },
  {
   "cell_type": "code",
   "execution_count": 3,
   "metadata": {
    "ExecuteTime": {
     "end_time": "2021-05-25T06:13:35.721148Z",
     "start_time": "2021-05-25T06:13:35.502741Z"
    },
    "scrolled": true
   },
   "outputs": [
    {
     "name": "stdout",
     "output_type": "stream",
     "text": [
      "划分测试/训练集方法——1. 按照原始比例\n",
      "划分测试/训练集方法——1. 按照原始比例\n",
      "划分10cv\n",
      "训练集数目: (5666, 1091)\n",
      "划分cv方法—— 1: 默认 随机取，每种（+ - =）取原比例的\n",
      "返回所有验证集\n",
      "        variations decrease no-change increase\n",
      "train1         567      280       193       94\n",
      "train2         567      280       193       94\n",
      "train3         567      280       193       94\n",
      "train4         567      280       193       94\n",
      "train5         567      280       193       94\n",
      "train6         567      280       193       94\n",
      "train7         566      280       193       93\n",
      "train8         566      280       192       94\n",
      "train9         566      279       193       94\n",
      "train10        566      279       193       94\n",
      "划分测试/训练集方法——1. 按照原始比例\n",
      "划分10cv\n",
      "训练集数目: (5666, 1091)\n",
      "划分cv方法—— 1: 默认 随机取，每种（+ - =）取原比例的\n",
      "返回使用的cv方法对象\n",
      "test1\n",
      "-1: 0: 1 = 12: 22: 12= 1.00: 1.83: 1.00\n",
      "test2\n",
      "-1: 0: 1 = 338: 237: 87= 1.00: 0.70: 0.26\n",
      "train\n",
      "-1: 0: 1 = 2798: 1929: 939= 1.00: 0.69: 0.34\n"
     ]
    },
    {
     "data": {
      "text/plain": [
       "'-1: 0: 1 = 2798: 1929: 939= 1.00: 0.69: 0.34'"
      ]
     },
     "execution_count": 3,
     "metadata": {},
     "output_type": "execute_result"
    }
   ],
   "source": [
    "cv_kind = 1\n",
    "train_set_kind = 1\n",
    "\n",
    "X_test1, y_test1, X_test2, y_test2 = BalanceDate.get_test_values()  \n",
    "X_train, y_train, g_train = BalanceDate.get_train_values(train_set_kind)  \n",
    "cvs = BalanceDate.split_cv(kind=cv_kind, train_set_kind=train_set_kind)\n",
    "cvs_method = BalanceDate.split_cv(kind=cv_kind, train_set_kind=train_set_kind, return_kind=2)\n",
    "\n",
    "print(\"test1\")\n",
    "utils.solubility_distribute(y_test1, 0, 1)\n",
    "print(\"test2\")\n",
    "utils.solubility_distribute(y_test2, 0, 1)\n",
    "print(\"train\")\n",
    "utils.solubility_distribute(y_train, 0, 1)"
   ]
  },
  {
   "cell_type": "markdown",
   "metadata": {
    "ExecuteTime": {
     "end_time": "2020-03-14T13:06:54.409083Z",
     "start_time": "2020-03-14T13:06:54.405093Z"
    }
   },
   "source": [
    "# read model"
   ]
  },
  {
   "cell_type": "code",
   "execution_count": 4,
   "metadata": {
    "ExecuteTime": {
     "end_time": "2021-05-25T06:13:35.736118Z",
     "start_time": "2021-05-25T06:13:35.724123Z"
    }
   },
   "outputs": [
    {
     "name": "stdout",
     "output_type": "stream",
     "text": [
      "['RandomForeast', 'lightGBM', 'XGBoost']\n"
     ]
    }
   ],
   "source": [
    "names = ['RandomForeast', 'lightGBM', 'XGBoost']\n",
    "\n",
    "models = [\n",
    "    RandomForestClassifier(random_state=0),\n",
    "    lgb.LGBMClassifier(random_state=0),  # gbm     \n",
    "    xgb.XGBClassifier(random_state=0),\n",
    "]\n",
    "\n",
    "print(names)"
   ]
  },
  {
   "cell_type": "markdown",
   "metadata": {},
   "source": [
    "# train"
   ]
  },
  {
   "cell_type": "code",
   "execution_count": 5,
   "metadata": {
    "ExecuteTime": {
     "end_time": "2021-05-25T06:20:31.727588Z",
     "start_time": "2021-05-25T06:13:35.739083Z"
    },
    "scrolled": true
   },
   "outputs": [
    {
     "name": "stdout",
     "output_type": "stream",
     "text": [
      "RandomForeast RandomForestClassifier(bootstrap=True, ccp_alpha=0.0, class_weight=None,\n",
      "                       criterion='gini', max_depth=None, max_features='auto',\n",
      "                       max_leaf_nodes=None, max_samples=None,\n",
      "                       min_impurity_decrease=0.0, min_impurity_split=None,\n",
      "                       min_samples_leaf=1, min_samples_split=2,\n",
      "                       min_weight_fraction_leaf=0.0, n_estimators=100,\n",
      "                       n_jobs=None, oob_score=False, random_state=0, verbose=0,\n",
      "                       warm_start=False)\n",
      "10cv\n",
      "原数据特征数目： 1081\n",
      "实际数据特征数目： 1081\n",
      "RandomForeast: 进行交叉验证\n",
      "特征数目： 1081\n",
      "train数据分布\n",
      "-1    2798\n",
      " 0    1929\n",
      " 1     939\n",
      "dtype: int64\n",
      "原有数据数目：2798 : 1929 : 939\n",
      "------cv 1------\n",
      "cv test ：2518 : 1736 : 845\n",
      "cv test ：280 : 193 : 94\n",
      "------cv 2------\n",
      "cv test ：2518 : 1736 : 845\n",
      "cv test ：280 : 193 : 94\n",
      "------cv 3------\n",
      "cv test ：2518 : 1736 : 845\n",
      "cv test ：280 : 193 : 94\n",
      "------cv 4------\n",
      "cv test ：2518 : 1736 : 845\n",
      "cv test ：280 : 193 : 94\n",
      "------cv 5------\n",
      "cv test ：2518 : 1736 : 845\n",
      "cv test ：280 : 193 : 94\n",
      "------cv 6------\n",
      "cv test ：2518 : 1736 : 845\n",
      "cv test ：280 : 193 : 94\n",
      "------cv 7------\n",
      "cv test ：2518 : 1736 : 846\n",
      "cv test ：280 : 193 : 93\n",
      "------cv 8------\n",
      "cv test ：2518 : 1737 : 845\n",
      "cv test ：280 : 192 : 94\n",
      "------cv 9------\n",
      "cv test ：2519 : 1736 : 845\n",
      "cv test ：279 : 193 : 94\n",
      "------cv 10------\n",
      "cv test ：2519 : 1736 : 845\n",
      "cv test ：279 : 193 : 94\n",
      "time: 36.46865153312683\n",
      "blind\n",
      "原数据特征数目： 1081\n",
      "实际特征数目： 1081\n",
      "特征数目： 1081\n",
      "train数据分布\n",
      "-1    2798\n",
      " 0    1929\n",
      " 1     939\n",
      "dtype: int64\n",
      "test1数据分布\n",
      " 0    22\n",
      " 1    12\n",
      "-1    12\n",
      "dtype: int64\n",
      "test2数据分布\n",
      "-1    338\n",
      " 0    237\n",
      " 1     87\n",
      "dtype: int64\n",
      "lightGBM LGBMClassifier(boosting_type='gbdt', class_weight=None, colsample_bytree=1.0,\n",
      "               importance_type='split', learning_rate=0.1, max_depth=-1,\n",
      "               min_child_samples=20, min_child_weight=0.001, min_split_gain=0.0,\n",
      "               n_estimators=100, n_jobs=-1, num_leaves=31, objective=None,\n",
      "               random_state=0, reg_alpha=0.0, reg_lambda=0.0, silent=True,\n",
      "               subsample=1.0, subsample_for_bin=200000, subsample_freq=0)\n",
      "10cv\n",
      "原数据特征数目： 1081\n",
      "实际数据特征数目： 1081\n",
      "lightGBM: 进行交叉验证\n",
      "特征数目： 1081\n",
      "train数据分布\n",
      "-1    2798\n",
      " 0    1929\n",
      " 1     939\n",
      "dtype: int64\n",
      "原有数据数目：2798 : 1929 : 939\n",
      "------cv 1------\n",
      "cv test ：2518 : 1736 : 845\n",
      "cv test ：280 : 193 : 94\n",
      "------cv 2------\n",
      "cv test ：2518 : 1736 : 845\n",
      "cv test ：280 : 193 : 94\n",
      "------cv 3------\n",
      "cv test ：2518 : 1736 : 845\n",
      "cv test ：280 : 193 : 94\n",
      "------cv 4------\n",
      "cv test ：2518 : 1736 : 845\n",
      "cv test ：280 : 193 : 94\n",
      "------cv 5------\n",
      "cv test ：2518 : 1736 : 845\n",
      "cv test ：280 : 193 : 94\n",
      "------cv 6------\n",
      "cv test ：2518 : 1736 : 845\n",
      "cv test ：280 : 193 : 94\n",
      "------cv 7------\n",
      "cv test ：2518 : 1736 : 846\n",
      "cv test ：280 : 193 : 93\n",
      "------cv 8------\n",
      "cv test ：2518 : 1737 : 845\n",
      "cv test ：280 : 192 : 94\n",
      "------cv 9------\n",
      "cv test ：2519 : 1736 : 845\n",
      "cv test ：279 : 193 : 94\n",
      "------cv 10------\n",
      "cv test ：2519 : 1736 : 845\n",
      "cv test ：279 : 193 : 94\n",
      "time: 121.2566499710083\n",
      "blind\n",
      "原数据特征数目： 1081\n",
      "实际特征数目： 1081\n",
      "特征数目： 1081\n",
      "train数据分布\n",
      "-1    2798\n",
      " 0    1929\n",
      " 1     939\n",
      "dtype: int64\n",
      "test1数据分布\n",
      " 0    22\n",
      " 1    12\n",
      "-1    12\n",
      "dtype: int64\n",
      "test2数据分布\n",
      "-1    338\n",
      " 0    237\n",
      " 1     87\n",
      "dtype: int64\n",
      "XGBoost XGBClassifier(base_score=None, booster=None, colsample_bylevel=None,\n",
      "              colsample_bynode=None, colsample_bytree=None, gamma=None,\n",
      "              gpu_id=None, importance_type='gain', interaction_constraints=None,\n",
      "              learning_rate=None, max_delta_step=None, max_depth=None,\n",
      "              min_child_weight=None, missing=nan, monotone_constraints=None,\n",
      "              n_estimators=100, n_jobs=None, num_parallel_tree=None,\n",
      "              objective='binary:logistic', random_state=0, reg_alpha=None,\n",
      "              reg_lambda=None, scale_pos_weight=None, subsample=None,\n",
      "              tree_method=None, validate_parameters=None, verbosity=None)\n",
      "10cv\n",
      "原数据特征数目： 1081\n",
      "实际数据特征数目： 1081\n",
      "XGBoost: 进行交叉验证\n",
      "特征数目： 1081\n",
      "train数据分布\n",
      "-1    2798\n",
      " 0    1929\n",
      " 1     939\n",
      "dtype: int64\n",
      "原有数据数目：2798 : 1929 : 939\n",
      "------cv 1------\n",
      "cv test ：2518 : 1736 : 845\n",
      "cv test ：280 : 193 : 94\n",
      "------cv 2------\n",
      "cv test ：2518 : 1736 : 845\n",
      "cv test ：280 : 193 : 94\n",
      "------cv 3------\n",
      "cv test ：2518 : 1736 : 845\n",
      "cv test ：280 : 193 : 94\n",
      "------cv 4------\n",
      "cv test ：2518 : 1736 : 845\n",
      "cv test ：280 : 193 : 94\n",
      "------cv 5------\n",
      "cv test ：2518 : 1736 : 845\n",
      "cv test ：280 : 193 : 94\n",
      "------cv 6------\n",
      "cv test ：2518 : 1736 : 845\n",
      "cv test ：280 : 193 : 94\n",
      "------cv 7------\n",
      "cv test ：2518 : 1736 : 846\n",
      "cv test ：280 : 193 : 93\n",
      "------cv 8------\n",
      "cv test ：2518 : 1737 : 845\n",
      "cv test ：280 : 192 : 94\n",
      "------cv 9------\n",
      "cv test ：2519 : 1736 : 845\n",
      "cv test ：279 : 193 : 94\n",
      "------cv 10------\n",
      "cv test ：2519 : 1736 : 845\n",
      "cv test ：279 : 193 : 94\n",
      "time: 217.95426607131958\n",
      "blind\n",
      "原数据特征数目： 1081\n",
      "实际特征数目： 1081\n",
      "特征数目： 1081\n",
      "train数据分布\n",
      "-1    2798\n",
      " 0    1929\n",
      " 1     939\n",
      "dtype: int64\n",
      "test1数据分布\n",
      " 0    22\n",
      " 1    12\n",
      "-1    12\n",
      "dtype: int64\n",
      "test2数据分布\n",
      "-1    338\n",
      " 0    237\n",
      " 1     87\n",
      "dtype: int64\n"
     ]
    }
   ],
   "source": [
    "res_cv = []  \n",
    "res_blind = []  \n",
    "for i in range(len(names)):\n",
    "    name = names[i]\n",
    "    model = models[i]\n",
    "    print(name, model)\n",
    "    print(\"10cv\")\n",
    "    stime = time.time()\n",
    "    res_cv.append( utils.CVUtil(model, name, cvs_method).set_data(X_train, y_train, g_train).fit())\n",
    "    etime = time.time()\n",
    "    print(\"time:\", etime - stime)\n",
    "    print(\"blind\")\n",
    "    res_blind.append( utils.BlindTestUtil(model, name).set_data(X_train, y_train, X_test1, y_test1, X_test2, y_test2).fit() )"
   ]
  },
  {
   "cell_type": "markdown",
   "metadata": {},
   "source": [
    "# save result"
   ]
  },
  {
   "cell_type": "code",
   "execution_count": 6,
   "metadata": {
    "ExecuteTime": {
     "end_time": "2021-05-25T06:20:35.453785Z",
     "start_time": "2021-05-25T06:20:31.728587Z"
    }
   },
   "outputs": [
    {
     "name": "stdout",
     "output_type": "stream",
     "text": [
      "输出路径为: .\\out\\20210525\\10cv_3class_res.xlsx\n",
      "输出路径为: .\\out\\20210525\\10cv_3class_res_balanced.xlsx\n"
     ]
    },
    {
     "data": {
      "text/plain": [
       "(                acc                               gc2                    \n",
       "       RandomForeast  lightGBM   XGBoost RandomForeast  lightGBM   XGBoost\n",
       " 10cv       0.544108  0.649793  0.643307      0.137249  0.297646  0.289102\n",
       " test1      0.343434  0.202020  0.272727      0.040627  0.105189  0.024101\n",
       " test2      0.502123  0.542766  0.553031      0.112288  0.149989  0.149801,\n",
       "        RandomForeast  lightGBM   XGBoost\n",
       " cv1         0.522441  0.659394  0.621501\n",
       " cv2         0.547600  0.631286  0.633473\n",
       " cv3         0.578738  0.644826  0.647274\n",
       " cv4         0.529702  0.662859  0.661198\n",
       " cv5         0.563303  0.640432  0.644397\n",
       " ...              ...       ...       ...\n",
       " cv8         0.540343  0.671562  0.640758\n",
       " cv9         0.562785  0.660555  0.668750\n",
       " cv10        0.523916  0.634775  0.639532\n",
       " test1       0.343434  0.202020  0.272727\n",
       " test2       0.502123  0.542766  0.553031\n",
       " \n",
       " [12 rows x 3 columns],\n",
       "        RandomForeast  lightGBM   XGBoost\n",
       " cv1         0.104060  0.301696  0.269374\n",
       " cv2         0.133727  0.258416  0.268316\n",
       " cv3         0.179649  0.305640  0.310369\n",
       " cv4         0.119294  0.328854  0.312883\n",
       " cv5         0.160793  0.305350  0.292300\n",
       " ...              ...       ...       ...\n",
       " cv8         0.131282  0.317642  0.283282\n",
       " cv9         0.155237  0.295035  0.323890\n",
       " cv10        0.116600  0.268388  0.258797\n",
       " test1       0.040627  0.105189  0.024101\n",
       " test2       0.112288  0.149989  0.149801\n",
       " \n",
       " [12 rows x 3 columns],\n",
       "                                  tp          tn          fp          fn  \\\n",
       "                     tag                                                   \n",
       " RandomForeast 10cv  -1   163.392188  263.341295  122.458705   29.507812   \n",
       "                      0   114.300000  267.365914  118.434086   78.600000   \n",
       "                      1    37.184420  362.869398   22.930602  155.715580   \n",
       "               test1 -1    11.000000   24.666667   19.333333   11.000000   \n",
       "                      0     8.000000   22.000000   22.000000   14.000000   \n",
       " ...                             ...         ...         ...         ...   \n",
       " XGBoost       test1  0     7.000000   23.833333   20.166667   15.000000   \n",
       "                      1     3.666667   38.333333    5.666667   18.333333   \n",
       "               test2 -1   201.239645  338.724138  135.275862   35.760355   \n",
       "                      0   162.000000  312.389308  161.610692   75.000000   \n",
       "                      1    29.965517  453.091716   20.908284  207.034483   \n",
       " \n",
       "                               ppv       npv       tpr       tnr  \n",
       "                     tag                                          \n",
       " RandomForeast 10cv  -1   0.572309  0.899234  0.847030  0.682580  \n",
       "                      0   0.491259  0.772958  0.592536  0.693014  \n",
       "                      1   0.617314  0.699776  0.192759  0.940568  \n",
       "               test1 -1   0.362637  0.691589  0.500000  0.560606  \n",
       "                      0   0.266667  0.611111  0.363636  0.500000  \n",
       " ...                           ...       ...       ...       ...  \n",
       " XGBoost       test1  0   0.257669  0.613734  0.318182  0.541667  \n",
       "                      1   0.392857  0.676471  0.166667  0.871212  \n",
       "               test2 -1   0.598010  0.904508  0.849112  0.714608  \n",
       "                      0   0.500602  0.806396  0.683544  0.659049  \n",
       "                      1   0.589017  0.686371  0.126437  0.955890  \n",
       " \n",
       " [27 rows x 8 columns])"
      ]
     },
     "execution_count": 6,
     "metadata": {},
     "output_type": "execute_result"
    }
   ],
   "source": [
    "utils.result_output(res_cv, res_blind, names, OUT_PATH, \"10cv_3class\", False)  \n",
    "utils.result_output(res_cv, res_blind, names, OUT_PATH, \"10cv_3class\", True)  "
   ]
  }
 ],
 "metadata": {
  "kernelspec": {
   "display_name": "Python 3",
   "language": "python",
   "name": "python3"
  },
  "language_info": {
   "codemirror_mode": {
    "name": "ipython",
    "version": 3
   },
   "file_extension": ".py",
   "mimetype": "text/x-python",
   "name": "python",
   "nbconvert_exporter": "python",
   "pygments_lexer": "ipython3",
   "version": "3.7.7"
  },
  "latex_envs": {
   "LaTeX_envs_menu_present": true,
   "autoclose": false,
   "autocomplete": true,
   "bibliofile": "biblio.bib",
   "cite_by": "apalike",
   "current_citInitial": 1,
   "eqLabelWithNumbers": true,
   "eqNumInitial": 1,
   "hotkeys": {
    "equation": "Ctrl-E",
    "itemize": "Ctrl-I"
   },
   "labels_anchors": false,
   "latex_user_defs": false,
   "report_style_numbering": false,
   "user_envs_cfg": false
  },
  "toc": {
   "base_numbering": 1,
   "nav_menu": {},
   "number_sections": true,
   "sideBar": true,
   "skip_h1_title": false,
   "title_cell": "Table of Contents",
   "title_sidebar": "Contents",
   "toc_cell": false,
   "toc_position": {
    "height": "calc(100% - 180px)",
    "left": "10px",
    "top": "150px",
    "width": "166.165px"
   },
   "toc_section_display": true,
   "toc_window_display": true
  }
 },
 "nbformat": 4,
 "nbformat_minor": 4
}
