{
 "cells": [
  {
   "cell_type": "code",
   "execution_count": null,
   "metadata": {
    "ExecuteTime": {
     "end_time": "2021-05-25T08:41:01.202103Z",
     "start_time": "2021-05-25T08:40:57.333391Z"
    }
   },
   "outputs": [],
   "source": [
    "import requests\n",
    "import json\n",
    "import time\n",
    "from tqdm import tqdm\n",
    "from balance_date import BalanceDate\n",
    "\n",
    "import pandas as pd\n",
    "import numpy as np\n",
    "import matplotlib.pyplot as plt\n",
    "import os\n",
    "import re\n",
    "\n",
    "import utils"
   ]
  },
  {
   "cell_type": "markdown",
   "metadata": {},
   "source": [
    "# train function"
   ]
  },
  {
   "cell_type": "code",
   "execution_count": null,
   "metadata": {
    "ExecuteTime": {
     "end_time": "2021-05-25T08:41:01.218047Z",
     "start_time": "2021-05-25T08:41:01.205015Z"
    },
    "scrolled": true
   },
   "outputs": [],
   "source": [
    "def submit(gi, sequence, change=None):\n",
    "    url = \"https://protein-sol.manchester.ac.uk/cgi-bin/solubility/sequenceprediction.php\"\n",
    "    sequence = sequence.replace(\"X\", \"A\") \n",
    "    if change is not None:\n",
    "        fr, index, t = change[0], change[1: -1], change[-1]\n",
    "        index = int(index) - 1\n",
    "        if sequence[index] != fr:\n",
    "            raise RuntimeError(\"don't match\")\n",
    "        sequence = sequence[:index] + t + sequence[index+1:]\n",
    "    payload = (\n",
    "        (\"sequence-input\", \">gi{}\\n{}\".format(gi, sequence)), \n",
    "        (\"singleprediction\", \"提交\"),\n",
    "    )\n",
    "    response = requests.post(url, data=payload)\n",
    "    if response.status_code == 200:\n",
    "        job_id = re.search(\"<p>Job id.*?=.*?(\\w+)</p>\", response.text, flags=re.I).group(1)\n",
    "        print(\"job id：\", job_id)\n",
    "    else:\n",
    "        raise RuntimeError(\"error %s\" % response.status_code )\n",
    "    return job_id"
   ]
  },
  {
   "cell_type": "code",
   "execution_count": null,
   "metadata": {
    "ExecuteTime": {
     "end_time": "2021-05-25T08:41:01.233934Z",
     "start_time": "2021-05-25T08:41:01.220962Z"
    }
   },
   "outputs": [],
   "source": [
    "def get_protein_sol_result(job_id):\n",
    "    url = \"https://protein-sol.manchester.ac.uk/cgi-bin/utilities/download_file.php\"\n",
    "    payload = (\n",
    "        (\"app\",\"solubility\"),\n",
    "        (\"dirname\",\"run\"),\n",
    "        (\"timestamp\", job_id),\n",
    "        (\"idname\", job_id),\n",
    "        (\"file\",\"seq_prediction.txt\"),\n",
    "    )\n",
    "    response = requests.get(url,params=payload)\n",
    "\n",
    "    if response.status_code == 200:\n",
    "        search_solubility = re.search(\"SEQUENCE PREDICTIONS,(.*)\", response.text).group(1)\n",
    "        solubility = search_solubility.split(\",\")[2]\n",
    "        solubility = float(solubility)\n",
    "        print(\"solubility：\", solubility)\n",
    "    else:\n",
    "        raise RuntimeError(\"error %s\" % response.status_code )\n",
    "    return solubility"
   ]
  },
  {
   "cell_type": "code",
   "execution_count": null,
   "metadata": {
    "ExecuteTime": {
     "end_time": "2021-05-25T08:41:01.249883Z",
     "start_time": "2021-05-25T08:41:01.235921Z"
    }
   },
   "outputs": [],
   "source": [
    "def get_solubility(gi, sequence, change=None):\n",
    "    job_id = submit(gi, sequence, change)\n",
    "    solubility = get_protein_sol_result(job_id)\n",
    "    return solubility"
   ]
  },
  {
   "cell_type": "code",
   "execution_count": null,
   "metadata": {
    "ExecuteTime": {
     "end_time": "2021-05-25T08:41:07.217642Z",
     "start_time": "2021-05-25T08:41:01.251879Z"
    }
   },
   "outputs": [],
   "source": [
    "gi = \"P00547\"\n",
    "change = \"M1A\"\n",
    "sequence = \"MVKVYAPASSANMSVGFDVLGAAVTPVDGALLGDVVTVEAAETFSLNNLGRFADKLPSEPRENIVYQCWERFCQELGKQIPVAMTLEKNMPIGSGLGSSACSVVAALMAMNEHCGKPLNDTRLLALMGELEGRISGSIHYDNVAPCFLGGMQLMIEENDIISQQVPGFDEWLWVLAYPGIKVSTAEARAILPAQYRRQDCIAHGRHLAGFIHACYSRQPELAAKLMKDVIAEPYRERLLPGFRQARQAVAEIGAVASGISGSGPTLFALCDKPETAQRVADWLGKNYLQNQEGFVHICRLDTAGARVLEN\"\n",
    "get_solubility(gi, sequence, change)"
   ]
  },
  {
   "cell_type": "markdown",
   "metadata": {},
   "source": [
    "# read data"
   ]
  },
  {
   "cell_type": "code",
   "execution_count": null,
   "metadata": {
    "ExecuteTime": {
     "end_time": "2021-05-25T08:41:07.233600Z",
     "start_time": "2021-05-25T08:41:07.220636Z"
    }
   },
   "outputs": [],
   "source": [
    "OUT_PATH = os.path.join(\".\", \"out\", time.strftime(\"%Y%m%d\"))  \n",
    "if not os.path.exists(OUT_PATH):\n",
    "    os.makedirs(OUT_PATH)\n",
    "print(\"out path：\", OUT_PATH)"
   ]
  },
  {
   "cell_type": "code",
   "execution_count": null,
   "metadata": {
    "ExecuteTime": {
     "end_time": "2021-05-25T08:41:07.265516Z",
     "start_time": "2021-05-25T08:41:07.236593Z"
    },
    "scrolled": true
   },
   "outputs": [],
   "source": [
    "config_path = \"./config.json\"\n",
    "with open(config_path) as f:\n",
    "    config = json.loads(f.read())\n",
    "config"
   ]
  },
  {
   "cell_type": "code",
   "execution_count": null,
   "metadata": {
    "ExecuteTime": {
     "end_time": "2021-05-25T08:41:07.312422Z",
     "start_time": "2021-05-25T08:41:07.268508Z"
    }
   },
   "outputs": [],
   "source": [
    "genes = pd.read_csv(config[\"genes_seq\"])\n",
    "genes"
   ]
  },
  {
   "cell_type": "code",
   "execution_count": null,
   "metadata": {
    "ExecuteTime": {
     "end_time": "2021-05-25T08:41:07.343376Z",
     "start_time": "2021-05-25T08:41:07.315416Z"
    }
   },
   "outputs": [],
   "source": [
    "X_test1, y_test1, X_test2, y_test2 = BalanceDate.get_test() \n",
    "X_test1 = pd.merge(X_test1, genes, left_on=\"gi\", right_on=\"gi\").loc[:, [\"index\", \"gi\", \"solubility\", \"variation\", \"mut_residue\", \"mut_from\", \"mut_to\", \"seq\"]]\n",
    "X_test2 = pd.merge(X_test2, genes, left_on=\"gi\", right_on=\"gi\").loc[:, [\"index\", \"gi\", \"solubility\", \"variation\", \"mut_residue\", \"mut_from\", \"mut_to\", \"seq\"]]"
   ]
  },
  {
   "cell_type": "markdown",
   "metadata": {},
   "source": [
    "# train"
   ]
  },
  {
   "cell_type": "code",
   "execution_count": null,
   "metadata": {
    "ExecuteTime": {
     "end_time": "2021-05-25T08:41:19.293159Z",
     "start_time": "2021-05-25T08:41:07.346334Z"
    },
    "scrolled": true
   },
   "outputs": [],
   "source": [
    "genes[\"protein-sol\"] = genes.apply(lambda x: get_solubility(x.gi, x.seq), axis=1)\n",
    "\n",
    "X_test1[\"protein-sol\"] = X_test1.apply(lambda x: get_solubility(x.gi, x.seq, x.variation), axis=1)\n",
    "X_test2[\"protein-sol\"] = X_test2.apply(lambda x: get_solubility(x.gi, x.seq, x.variation), axis=1)"
   ]
  },
  {
   "cell_type": "code",
   "execution_count": null,
   "metadata": {
    "ExecuteTime": {
     "end_time": "2021-05-25T08:41:19.295154Z",
     "start_time": "2021-05-25T08:40:57.381Z"
    }
   },
   "outputs": [],
   "source": [
    "_test1_path = os.path.join(OUT_PATH, \"protein_sol_test1_result.xlsx\")\n",
    "_test2_path = os.path.join(OUT_PATH, \"protein_sol_test2_result.xlsx\")\n",
    "X_test1.to_excel(_test1_path)\n",
    "X_test2.to_excel(_test2_path)\n",
    "\n",
    "print(\"out path：\")\n",
    "print(_test1_path)\n",
    "print(_test2_path)"
   ]
  }
 ],
 "metadata": {
  "kernelspec": {
   "display_name": "Python 3",
   "language": "python",
   "name": "python3"
  },
  "language_info": {
   "codemirror_mode": {
    "name": "ipython",
    "version": 3
   },
   "file_extension": ".py",
   "mimetype": "text/x-python",
   "name": "python",
   "nbconvert_exporter": "python",
   "pygments_lexer": "ipython3",
   "version": "3.7.7"
  },
  "toc": {
   "base_numbering": 1,
   "nav_menu": {},
   "number_sections": true,
   "sideBar": true,
   "skip_h1_title": false,
   "title_cell": "Table of Contents",
   "title_sidebar": "Contents",
   "toc_cell": false,
   "toc_position": {
    "height": "calc(100% - 180px)",
    "left": "10px",
    "top": "150px",
    "width": "298.062px"
   },
   "toc_section_display": true,
   "toc_window_display": true
  }
 },
 "nbformat": 4,
 "nbformat_minor": 4
}
