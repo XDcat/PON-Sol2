{
 "cells": [
  {
   "cell_type": "code",
   "execution_count": null,
   "metadata": {
    "ExecuteTime": {
     "end_time": "2021-05-25T06:34:11.489164Z",
     "start_time": "2021-05-25T06:34:08.260315Z"
    }
   },
   "outputs": [],
   "source": [
    "from collections import defaultdict\n",
    "from pprint import pprint\n",
    "import time\n",
    "import os\n",
    "import json\n",
    "\n",
    "import pandas as pd\n",
    "import numpy as np\n",
    "import matplotlib.pyplot as plt\n",
    "\n",
    "from balance_date import BalanceDate\n",
    "\n",
    "import utils\n",
    "pd.options.display.max_rows = 10  \n",
    "\n",
    "%matplotlib inline\n",
    "\n",
    "\n",
    "from sklearn.model_selection import cross_val_score, cross_validate, StratifiedKFold\n",
    "from sklearn.model_selection import train_test_split\n",
    "skf = StratifiedKFold(n_splits=10, shuffle=True, random_state=0)  \n",
    "from sklearn.externals import joblib  \n",
    "from sklearn.feature_selection import RFE,RFECV  \n",
    "\n",
    "from sklearn.ensemble import RandomForestClassifier\n",
    "import lightgbm as lgb\n",
    "import xgboost as xgb\n",
    "\n",
    "\n",
    "from tqdm import tqdm, trange\n",
    "with open(\"./config.json\") as f:\n",
    "    config = json.loads(f.read())"
   ]
  },
  {
   "cell_type": "code",
   "execution_count": null,
   "metadata": {
    "ExecuteTime": {
     "end_time": "2021-05-25T06:34:11.505124Z",
     "start_time": "2021-05-25T06:34:11.491158Z"
    }
   },
   "outputs": [],
   "source": [
    "FEATURE = BalanceDate.get_feature()  \n",
    "OUT_PATH = os.path.join(\".\", \"out\", time.strftime(\"%Y%m%d\"))  \n",
    "if not os.path.exists(OUT_PATH):\n",
    "    os.makedirs(OUT_PATH)\n",
    "print(\"feature：\", FEATURE)\n",
    "print(\"out path：\", OUT_PATH)"
   ]
  },
  {
   "cell_type": "markdown",
   "metadata": {},
   "source": [
    "# read data"
   ]
  },
  {
   "cell_type": "code",
   "execution_count": null,
   "metadata": {
    "ExecuteTime": {
     "end_time": "2021-05-25T06:34:11.706576Z",
     "start_time": "2021-05-25T06:34:11.508114Z"
    }
   },
   "outputs": [],
   "source": [
    "cv_kind = 1\n",
    "train_set_kind = 1\n",
    "\n",
    "X_test1, y_test1, X_test2, y_test2 = BalanceDate.get_test_values()  \n",
    "X_train, y_train, g_train = BalanceDate.get_train_values(train_set_kind)  \n",
    "cvs = BalanceDate.split_cv(kind=cv_kind, train_set_kind=train_set_kind)\n",
    "cvs_method = BalanceDate.split_cv(kind=cv_kind, train_set_kind=train_set_kind, return_kind=2)\n",
    "\n",
    "print(\"test1\")\n",
    "utils.solubility_distribute(y_test1, 0, 1)\n",
    "print(\"test2\")\n",
    "utils.solubility_distribute(y_test2, 0, 1)\n",
    "print(\"train\")\n",
    "utils.solubility_distribute(y_train, 0, 1)"
   ]
  },
  {
   "cell_type": "markdown",
   "metadata": {
    "ExecuteTime": {
     "end_time": "2020-03-14T13:06:54.409083Z",
     "start_time": "2020-03-14T13:06:54.405093Z"
    }
   },
   "source": [
    "# read model"
   ]
  },
  {
   "cell_type": "code",
   "execution_count": null,
   "metadata": {
    "ExecuteTime": {
     "end_time": "2021-05-25T06:34:11.722535Z",
     "start_time": "2021-05-25T06:34:11.709566Z"
    }
   },
   "outputs": [],
   "source": [
    "name = \"lightGBM\"\n",
    "model =  lgb.LGBMClassifier(random_state=0)  # gbm     \n",
    "print(name, model)"
   ]
  },
  {
   "cell_type": "markdown",
   "metadata": {},
   "source": [
    "# direct"
   ]
  },
  {
   "cell_type": "code",
   "execution_count": null,
   "metadata": {
    "ExecuteTime": {
     "end_time": "2021-05-25T06:34:11.737492Z",
     "start_time": "2021-05-25T06:34:11.723531Z"
    }
   },
   "outputs": [],
   "source": [
    "res_cv = []  \n",
    "res_blind = []  \n",
    "res_names = []  "
   ]
  },
  {
   "cell_type": "code",
   "execution_count": null,
   "metadata": {
    "ExecuteTime": {
     "end_time": "2021-05-25T06:34:17.710446Z",
     "start_time": "2021-05-25T06:34:11.739487Z"
    },
    "scrolled": true
   },
   "outputs": [],
   "source": [
    "res_names.append(\"direct\")\n",
    "print(\"10cv\")\n",
    "res_cv.append( utils.CVUtil(model, name + \"direct\", cvs_method).set_data(X_train, y_train, g_train).fit())\n",
    "print(\"blind\")\n",
    "res_blind.append( utils.BlindTestUtil(model, name + \"direct\").set_data(X_train, y_train, X_test1, y_test1, X_test2, y_test2).fit() )"
   ]
  },
  {
   "cell_type": "markdown",
   "metadata": {},
   "source": [
    "# after fs"
   ]
  },
  {
   "cell_type": "markdown",
   "metadata": {},
   "source": [
    "## rfe"
   ]
  },
  {
   "cell_type": "code",
   "execution_count": null,
   "metadata": {
    "ExecuteTime": {
     "end_time": "2021-05-25T06:34:21.736016Z",
     "start_time": "2021-05-25T06:34:21.715073Z"
    },
    "scrolled": true
   },
   "outputs": [],
   "source": [
    "def direct_rfe(file_path, kind=-1):\n",
    "    rfecv = joblib.load(file_path)\n",
    "    print(\"dir:\", file_path)\n",
    "    print(\"count：\", rfecv.n_features_)\n",
    "    print(\"feature：\")\n",
    "    for i, j in enumerate(FEATURE[rfecv.support_]):\n",
    "        print(j, end=\" \")\n",
    "        if (i + 1) % 10 == 0:\n",
    "            print()\n",
    "    print()\n",
    "    name = \"direct_fs_rf_{}\".format(rfecv.n_features_)\n",
    "\n",
    "    print(\"10cv\")\n",
    "    _cv_res = utils.CVUtil(model, name + \"fs\", cvs_method, feature_select=rfecv).set_data(X_train, y_train, g_train).fit()\n",
    "    print(\"blind\")\n",
    "    _blind_res = utils.BlindTestUtil(model, name + \"fs\", feature_select=rfecv).set_data(X_train, y_train, X_test1, y_test1, X_test2, y_test2).fit()\n",
    "    \n",
    "    return name, _cv_res, _blind_res"
   ]
  },
  {
   "cell_type": "code",
   "execution_count": null,
   "metadata": {
    "ExecuteTime": {
     "end_time": "2021-05-25T06:34:28.600472Z",
     "start_time": "2021-05-25T06:34:23.517219Z"
    }
   },
   "outputs": [],
   "source": [
    "# 100\n",
    "r = direct_rfe(config[\"feature_selected\"][\"LightGBM_rfe_100\"], -1)\n",
    "res_names.append(r[0])\n",
    "res_cv.append(r[1])\n",
    "res_blind.append(r[2])\n",
    "\n",
    "# 50\n",
    "r = direct_rfe(config[\"feature_selected\"][\"LightGBM_rfe_50\"], -1)\n",
    "res_names.append(r[0])\n",
    "res_cv.append(r[1])\n",
    "res_blind.append(r[2])\n",
    "\n",
    "# 30\n",
    "r = direct_rfe(config[\"feature_selected\"][\"LightGBM_rfe_30\"], -1)\n",
    "res_names.append(r[0])\n",
    "res_cv.append(r[1])\n",
    "res_blind.append(r[2])\n",
    "\n",
    "# 20\n",
    "r = direct_rfe(config[\"feature_selected\"][\"LightGBM_rfe_20\"], -1)\n",
    "res_names.append(r[0])\n",
    "res_cv.append(r[1])\n",
    "res_blind.append(r[2])"
   ]
  },
  {
   "cell_type": "markdown",
   "metadata": {},
   "source": [
    "# direct 2layer"
   ]
  },
  {
   "cell_type": "code",
   "execution_count": null,
   "metadata": {
    "ExecuteTime": {
     "end_time": "2021-05-25T06:34:31.498666Z",
     "start_time": "2021-05-25T06:34:31.485679Z"
    }
   },
   "outputs": [],
   "source": [
    "name = \"lightGBM\"\n",
    "Estimator =  lgb.LGBMClassifier\n",
    "print(name, Estimator)"
   ]
  },
  {
   "cell_type": "code",
   "execution_count": null,
   "metadata": {
    "ExecuteTime": {
     "end_time": "2021-05-25T06:34:35.090921Z",
     "start_time": "2021-05-25T06:34:32.877380Z"
    },
    "scrolled": true
   },
   "outputs": [],
   "source": [
    "i = -1\n",
    "res_names.append(\"2layer\")\n",
    "print(\"10cv\")\n",
    "_cvUtil = utils.CVUtilLayer2(Estimator, cvs_method, name + \"2layer\").set_data(X_train, y_train, g_train, i).fit()\n",
    "res_cv.append(_cvUtil)\n",
    "print(\"blind\")\n",
    "_blindUtil = utils.BlindTestUtilLayer2(Estimator, name + \"2layer\").set_data(X_train, y_train, X_test1, y_test1, X_test2, y_test2, i).fit()\n",
    "res_blind.append(_blindUtil)\n",
    "\n",
    "kwargs = {\"random_state\":0, }\n",
    "layer_direct_model = utils.PonsolLayerEstimator(Estimator,kwargs=kwargs,special_kind=-1)\n",
    "layer_direct_model.fit(X_train, y_train)\n",
    "out_path = os.path.join(OUT_PATH, \"2layer_directly.model\")\n",
    "print(\"save to:\", out_path)\n",
    "joblib.dump(layer_direct_model, out_path)\n",
    "\n",
    "p_test1 = layer_direct_model.predict(X_test1)\n",
    "p_test2 = layer_direct_model.predict(X_test2)\n",
    "print(\"acc test1 =\", sum(y_test1 == p_test1) / len(y_test1))\n",
    "print(\"acc test2 =\",sum(y_test2 == p_test2) / len(y_test2))"
   ]
  },
  {
   "cell_type": "markdown",
   "metadata": {},
   "source": [
    "# 2layer + fs"
   ]
  },
  {
   "cell_type": "markdown",
   "metadata": {},
   "source": [
    "## rfe"
   ]
  },
  {
   "cell_type": "code",
   "execution_count": null,
   "metadata": {
    "ExecuteTime": {
     "end_time": "2021-05-25T06:34:17.718425Z",
     "start_time": "2021-05-25T06:34:08.303Z"
    }
   },
   "outputs": [],
   "source": [
    "def layer_rfe(fs_path, fs_base_path, kind=-1):\n",
    "    is_direct = (fs_base_path is None)\n",
    "    print(\">> for{}：{}\".format(kind, [j for j in [-1, 0, 1] if j != kind]))\n",
    "    if is_direct:\n",
    "        _path1, _path2 = fs_path\n",
    "        rfecv_layer1 = joblib.load(_path1)\n",
    "        rfecv_layer2 = joblib.load(_path2)\n",
    "        _feature_1 = FEATURE[rfecv_layer1.support_]\n",
    "        _feature_2 = FEATURE[rfecv_layer2.support_]\n",
    "\n",
    "        print(\"rfecv：\")\n",
    "        print(\"layer1:\", _path1)\n",
    "        print(\"count：\", len(_feature_1))\n",
    "        print(\"feature：\")\n",
    "        for i, j in enumerate(_feature_1):\n",
    "            print(j, end=\" \")\n",
    "            if (i + 1) % 10 == 0:\n",
    "                print()\n",
    "        print()\n",
    "        print(\"layer2:\", _path2)\n",
    "        print(\"count：\", len(_feature_2))\n",
    "        print(\"feature：\")\n",
    "        for i, j in enumerate(_feature_2):\n",
    "            print(j, end=\" \")\n",
    "            if (i + 1) % 10 == 0:\n",
    "                print()\n",
    "        print()\n",
    "\n",
    "    else:\n",
    "        _fs_special1_path, _fs_special2_path = fs_path\n",
    "        _fs_base1_path, _fs_base2_path = fs_base_path\n",
    "        _feature_1 = FEATURE[joblib.load(_fs_base1_path).support_][joblib.load(\n",
    "            _fs_special1_path).support_]\n",
    "\n",
    "        _feature_2 = FEATURE[joblib.load(_fs_base2_path).support_][joblib.load(\n",
    "            _fs_special2_path).support_]\n",
    "        print(\"layer1\")\n",
    "        print(\"count：\", len(_feature_1))\n",
    "        print(\"feature：\")\n",
    "        for i, j in enumerate(_feature_1):\n",
    "            print(j, end=\" \")\n",
    "            if (i + 1) % 10 == 0:\n",
    "                print()\n",
    "        print()\n",
    "\n",
    "        print(\"layer2\")\n",
    "        print(\"count：\", len(_feature_2))\n",
    "        print(\"feature：\")\n",
    "        for i, j in enumerate(_feature_2):\n",
    "            print(j, end=\" \")\n",
    "            if (i + 1) % 10 == 0:\n",
    "                print()\n",
    "        print()\n",
    "\n",
    "    name = \"2layer fs_rfe_{}_{}\".format(len(_feature_1), len(_feature_2))\n",
    "    print(\"# for{}\".format(kind))\n",
    "    print(\"10cv\")\n",
    "    _cvUtil = utils.CVUtilLayer2(Estimator, cvs_method,\n",
    "                                 name).set_data(X_train, y_train, g_train,\n",
    "                                                kind, _feature_1,\n",
    "                                                _feature_2).fit()\n",
    "    print(\"blind\")\n",
    "    _blindUtil = utils.BlindTestUtilLayer2(Estimator, name).set_data(\n",
    "        X_train, y_train, X_test1, y_test1, X_test2, y_test2, kind, _feature_1,\n",
    "        _feature_2).fit()\n",
    "\n",
    "    kwargs = {\n",
    "        \"random_state\": 0,\n",
    "    }\n",
    "    layer_rfe_model = utils.PonsolLayerEstimator(\n",
    "        Estimator,\n",
    "        kwargs=kwargs,\n",
    "        special_kind=-1,\n",
    "        feature_selected=[_feature_1, _feature_2])\n",
    "    layer_rfe_model.fit(X_train, y_train)\n",
    "    out_path = os.path.join(\n",
    "        OUT_PATH, \"2layer_rfe_{}_{}.model\".format(len(_feature_1),\n",
    "                                                  len(_feature_2)))\n",
    "    print(\"path:\", out_path)\n",
    "    joblib.dump(layer_rfe_model, out_path)\n",
    "    \n",
    "    p_test1 = layer_rfe_model.predict(X_test1)\n",
    "    p_test2 = layer_rfe_model.predict(X_test2)\n",
    "    print(\"acc test1 =\", sum(y_test1 == p_test1) / len(y_test1))\n",
    "    print(\"acc test2 =\", sum(y_test2 == p_test2) / len(y_test2))\n",
    "\n",
    "    return name, _cvUtil, _blindUtil"
   ]
  },
  {
   "cell_type": "code",
   "execution_count": null,
   "metadata": {
    "ExecuteTime": {
     "end_time": "2021-05-25T06:34:17.719432Z",
     "start_time": "2021-05-25T06:34:08.306Z"
    },
    "scrolled": true
   },
   "outputs": [],
   "source": [
    "# 100\n",
    "r = layer_rfe([\n",
    "    config[\"feature_selected\"][\"lightGBM_layer1_-1_ref_100\"],\n",
    "    config[\"feature_selected\"][\"lightGBM_layer2_-1_ref_100\"]\n",
    "], None, -1)\n",
    "res_names.append(r[0])\n",
    "res_cv.append(r[1])\n",
    "res_blind.append(r[2])\n",
    "\n",
    "# 50\n",
    "r = layer_rfe([\n",
    "    config[\"feature_selected\"][\"lightGBM_layer1_-1_ref_50\"],\n",
    "    config[\"feature_selected\"][\"lightGBM_layer2_-1_ref_50\"]\n",
    "], None, -1)\n",
    "res_names.append(r[0])\n",
    "res_cv.append(r[1])\n",
    "res_blind.append(r[2])\n",
    "\n",
    "# 30\n",
    "r = layer_rfe([\n",
    "    config[\"feature_selected\"][\"lightGBM_layer1_-1_ref_30\"],\n",
    "    config[\"feature_selected\"][\"lightGBM_layer2_-1_ref_30\"]\n",
    "], None, -1)\n",
    "res_names.append(r[0])\n",
    "res_cv.append(r[1])\n",
    "res_blind.append(r[2])\n",
    "\n",
    "# 20\n",
    "# r = layer_rfe([\n",
    "#     config[\"feature_selected\"][\"lightGBM_layer1_-1_ref_20\"],\n",
    "#     config[\"feature_selected\"][\"lightGBM_layer2_-1_ref_20\"]\n",
    "# ], None, -1)\n",
    "# res_names.append(r[0])\n",
    "# res_cv.append(r[1])\n",
    "# res_blind.append(r[2])\n",
    "\n",
    "# 20 plus\n",
    "r = layer_rfe([\n",
    "    config[\"feature_selected_special\"][\"lightGBM_ref_specia-l_layer1\"][1],\n",
    "    config[\"feature_selected_special\"][\"lightGBM_ref_specia-l_layer2\"][1],\n",
    "], [\n",
    "    config[\"feature_selected\"][config[\"feature_selected_special\"]\n",
    "                               [\"lightGBM_ref_specia-l_layer1\"][0]],\n",
    "    config[\"feature_selected\"][config[\"feature_selected_special\"]\n",
    "                               [\"lightGBM_ref_specia-l_layer2\"][0]],\n",
    "], -1)\n",
    "res_names.append(r[0])\n",
    "res_cv.append(r[1])\n",
    "res_blind.append(r[2])"
   ]
  },
  {
   "cell_type": "markdown",
   "metadata": {},
   "source": [
    "# save result"
   ]
  },
  {
   "cell_type": "code",
   "execution_count": null,
   "metadata": {
    "ExecuteTime": {
     "end_time": "2021-05-25T06:34:17.720428Z",
     "start_time": "2021-05-25T06:34:08.308Z"
    },
    "scrolled": true
   },
   "outputs": [],
   "source": [
    "utils.result_output(res_cv, res_blind, res_names, OUT_PATH, \"10cv_3class_finally\", False)  \n",
    "utils.result_output(res_cv, res_blind, res_names, OUT_PATH, \"10cv_3class_finally\", True)  "
   ]
  }
 ],
 "metadata": {
  "kernelspec": {
   "display_name": "Python 3",
   "language": "python",
   "name": "python3"
  },
  "language_info": {
   "codemirror_mode": {
    "name": "ipython",
    "version": 3
   },
   "file_extension": ".py",
   "mimetype": "text/x-python",
   "name": "python",
   "nbconvert_exporter": "python",
   "pygments_lexer": "ipython3",
   "version": "3.7.7"
  },
  "latex_envs": {
   "LaTeX_envs_menu_present": true,
   "autoclose": false,
   "autocomplete": true,
   "bibliofile": "biblio.bib",
   "cite_by": "apalike",
   "current_citInitial": 1,
   "eqLabelWithNumbers": true,
   "eqNumInitial": 1,
   "hotkeys": {
    "equation": "Ctrl-E",
    "itemize": "Ctrl-I"
   },
   "labels_anchors": false,
   "latex_user_defs": false,
   "report_style_numbering": false,
   "user_envs_cfg": false
  },
  "toc": {
   "base_numbering": 1,
   "nav_menu": {},
   "number_sections": true,
   "sideBar": true,
   "skip_h1_title": false,
   "title_cell": "Table of Contents",
   "title_sidebar": "Contents",
   "toc_cell": false,
   "toc_position": {
    "height": "calc(100% - 180px)",
    "left": "10px",
    "top": "150px",
    "width": "166.141px"
   },
   "toc_section_display": true,
   "toc_window_display": true
  }
 },
 "nbformat": 4,
 "nbformat_minor": 4
}
